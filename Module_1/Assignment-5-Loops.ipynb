{
 "cells": [
  {
   "cell_type": "code",
   "execution_count": 39,
   "id": "2f94dbdc",
   "metadata": {},
   "outputs": [
    {
     "name": "stdout",
     "output_type": "stream",
     "text": [
      "Enter an input number:1\n",
      "1 is not a prime number\n"
     ]
    }
   ],
   "source": [
    "\"\"\"\n",
    "                                        Assignment 5\n",
    "Problem Statement:\n",
    "You work in XYZ Corporation as a Data Analyst. Your company has told you to work with the If- Else Conditions.\n",
    "Tasks to be performed:\n",
    "1. Create an array that is having user defined inputs and with the help of for loop, \n",
    "fetch all the prime numbers and print the numbers.   \n",
    "\n",
    "\"\"\"\n",
    "\n",
    "a = int(input(\"Enter an input number:\"))\n",
    "\n",
    "if a > 1:\n",
    "    for j in range(2, int(a/2) + 1):\n",
    "        if (a % j) == 0:\n",
    "            print(a,\" is not prime number\")\n",
    "            break\n",
    "    else:\n",
    "        print(a,\"is a prime number\")\n",
    "                    \n",
    "else: \n",
    "    print(a,\"is not a prime number\")"
   ]
  },
  {
   "cell_type": "code",
   "execution_count": null,
   "id": "b323bd5d",
   "metadata": {},
   "outputs": [],
   "source": []
  }
 ],
 "metadata": {
  "kernelspec": {
   "display_name": "Python 3",
   "language": "python",
   "name": "python3"
  },
  "language_info": {
   "codemirror_mode": {
    "name": "ipython",
    "version": 3
   },
   "file_extension": ".py",
   "mimetype": "text/x-python",
   "name": "python",
   "nbconvert_exporter": "python",
   "pygments_lexer": "ipython3",
   "version": "3.8.8"
  }
 },
 "nbformat": 4,
 "nbformat_minor": 5
}
