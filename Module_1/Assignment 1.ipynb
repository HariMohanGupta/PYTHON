{
 "cells": [
  {
   "cell_type": "code",
   "execution_count": 13,
   "id": "6e6a9008",
   "metadata": {},
   "outputs": [
    {
     "data": {
      "text/plain": [
       "'C:\\\\Users\\\\hari'"
      ]
     },
     "execution_count": 13,
     "metadata": {},
     "output_type": "execute_result"
    }
   ],
   "source": [
    "# find the working directory\n",
    "\n",
    "import os\n",
    "os.getcwd()"
   ]
  },
  {
   "cell_type": "code",
   "execution_count": 14,
   "id": "eb11bfe6",
   "metadata": {},
   "outputs": [],
   "source": [
    "# change the working directory\n",
    "\n",
    "os.chdir('D:\\\\Hari -DS\\\\Python')"
   ]
  },
  {
   "cell_type": "code",
   "execution_count": 15,
   "id": "9c2b042c",
   "metadata": {},
   "outputs": [
    {
     "data": {
      "text/plain": [
       "'D:\\\\Hari -DS\\\\Python'"
      ]
     },
     "execution_count": 15,
     "metadata": {},
     "output_type": "execute_result"
    }
   ],
   "source": [
    "os.getcwd()"
   ]
  },
  {
   "cell_type": "code",
   "execution_count": null,
   "id": "811ee2fa",
   "metadata": {},
   "outputs": [],
   "source": [
    "###Problem Statement:  \n",
    "#You work in XYZ Corporation as a Data Analyst. Your company has told you to work with the If- \n",
    "#Else Conditions.\n",
    "\n",
    "#Tasks to be performed: \n",
    "#1. Input the values of a and b as 10 and 20 respectively. Now check if a is greater or b is greater \n",
    "#using if condition. Think about all the edge cases, and print the statements accordingly. "
   ]
  },
  {
   "cell_type": "code",
   "execution_count": 1,
   "id": "959753c4",
   "metadata": {},
   "outputs": [],
   "source": [
    "a = 10\n",
    "b = 20"
   ]
  },
  {
   "cell_type": "code",
   "execution_count": 7,
   "id": "73f052e7",
   "metadata": {},
   "outputs": [
    {
     "name": "stdout",
     "output_type": "stream",
     "text": [
      "b is greater then a\n"
     ]
    }
   ],
   "source": [
    "if a > 20:\n",
    "    print(\"a is greater then b\")\n",
    "    \n",
    "else:\n",
    "    print(\"b is greater then a\")"
   ]
  },
  {
   "cell_type": "code",
   "execution_count": null,
   "id": "90cbf076",
   "metadata": {},
   "outputs": [],
   "source": []
  }
 ],
 "metadata": {
  "kernelspec": {
   "display_name": "Python 3",
   "language": "python",
   "name": "python3"
  },
  "language_info": {
   "codemirror_mode": {
    "name": "ipython",
    "version": 3
   },
   "file_extension": ".py",
   "mimetype": "text/x-python",
   "name": "python",
   "nbconvert_exporter": "python",
   "pygments_lexer": "ipython3",
   "version": "3.8.8"
  }
 },
 "nbformat": 4,
 "nbformat_minor": 5
}
