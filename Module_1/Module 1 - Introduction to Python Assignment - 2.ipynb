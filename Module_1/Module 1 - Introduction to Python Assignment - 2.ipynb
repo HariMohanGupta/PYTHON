{
 "cells": [
  {
   "cell_type": "code",
   "execution_count": null,
   "id": "e57d6baf",
   "metadata": {},
   "outputs": [],
   "source": [
    "\"\"\"\n",
    "                Module 1 - Introduction to Python Assignment - 2\n",
    "\n",
    "Problem Statement:\n",
    "\n",
    "Consider yourself to be Sam who is a data scientist. He has been invited as a guest lecturer at a college\n",
    "to take an introductory session on Python.\n",
    "Tasks to be performed:\n",
    "\n",
    "\"\"\""
   ]
  },
  {
   "cell_type": "code",
   "execution_count": 4,
   "id": "2044ddb3",
   "metadata": {},
   "outputs": [
    {
     "name": "stdout",
     "output_type": "stream",
     "text": [
      "(10, 20, 30, 40, 50, 60, 40, 50, 60, 40, 50, 60)\n"
     ]
    }
   ],
   "source": [
    "#    1. Create 1st tuple with values -> (10,20,30), 2nd tuple with values -> (40,50,60).\n",
    "\n",
    "#a. Concatenate the two tuples and store it in “t_combine”\n",
    "\n",
    "first_tuple = (10,20,30)\n",
    "\n",
    "second_tuple = (40,50,60)\n",
    "\n",
    "t_combine = first_tuple + second_tuple \n",
    "\n",
    "print(t_combine)\n"
   ]
  },
  {
   "cell_type": "code",
   "execution_count": 3,
   "id": "224e4d88",
   "metadata": {},
   "outputs": [
    {
     "name": "stdout",
     "output_type": "stream",
     "text": [
      "('apple', 'banana', 'cherry', 'apple', 'banana', 'cherry')\n"
     ]
    }
   ],
   "source": [
    "fruits = (\"apple\", \"banana\", \"cherry\")\n",
    "mytuple = fruits * 2\n",
    "print(mytuple) "
   ]
  },
  {
   "cell_type": "code",
   "execution_count": 10,
   "id": "c4ce2740",
   "metadata": {},
   "outputs": [
    {
     "name": "stdout",
     "output_type": "stream",
     "text": [
      "(10, 20, 30, 40, 50, 60, 10, 20, 30, 40, 50, 60, 10, 20, 30, 40, 50, 60)\n"
     ]
    }
   ],
   "source": [
    "#b. Repeat the elements of “t_combine” 3 times\n",
    "\n",
    "first_tuple = (10,20,30)\n",
    "\n",
    "second_tuple = (40,50,60)\n",
    "\n",
    "t_combine = (first_tuple + second_tuple )*3\n",
    "\n",
    "print(t_combine)\n"
   ]
  },
  {
   "cell_type": "code",
   "execution_count": 12,
   "id": "d713d1ed",
   "metadata": {},
   "outputs": [
    {
     "name": "stdout",
     "output_type": "stream",
     "text": [
      "30\n"
     ]
    }
   ],
   "source": [
    "#c. Access the 3rd element from “t_combine”\n",
    "\n",
    "t_combine\n",
    "\n",
    "print(t_combine[2])"
   ]
  },
  {
   "cell_type": "code",
   "execution_count": 13,
   "id": "d244227c",
   "metadata": {},
   "outputs": [
    {
     "name": "stdout",
     "output_type": "stream",
     "text": [
      "(10, 20, 30)\n"
     ]
    }
   ],
   "source": [
    "#d. Access the first three elements from “t_combine”\n",
    "\n",
    "print(t_combine[:3])"
   ]
  },
  {
   "cell_type": "code",
   "execution_count": 27,
   "id": "21c35050",
   "metadata": {},
   "outputs": [
    {
     "name": "stdout",
     "output_type": "stream",
     "text": [
      "(40, 50, 60)\n",
      "18\n"
     ]
    }
   ],
   "source": [
    "#e. Access the last three elements from “t_combine”\n",
    "\n",
    "print(t_combine[15:18])\n",
    "print(len(t_combine))"
   ]
  },
  {
   "cell_type": "code",
   "execution_count": 1,
   "id": "466dc80b",
   "metadata": {},
   "outputs": [
    {
     "name": "stdout",
     "output_type": "stream",
     "text": [
      "[1, 2, 3, 'a', 'b', 'c', True, False]\n"
     ]
    }
   ],
   "source": [
    "#2. Create a list ‘my_list’ with these elements:\n",
    "#a. First element is a tuple with values 1,2,3\n",
    "#b. Second element is a tuple with values “a”,”b”,”c”\n",
    "#c. Third element is a tuple with values True,False\n",
    "\n",
    "\n",
    "first_tuple = (1,2,3)\n",
    "second_tuple = (\"a\",\"b\",\"c\")\n",
    "third_tuple = (True,False)\n",
    "\n",
    "my_list = list(first_tuple + second_tuple + third_tuple)\n",
    "\n",
    "print(my_list)"
   ]
  },
  {
   "cell_type": "code",
   "execution_count": 4,
   "id": "d2e72671",
   "metadata": {},
   "outputs": [
    {
     "name": "stdout",
     "output_type": "stream",
     "text": [
      "[1, 2, 3, 'a', 'b', 'c', True, False, (1, 'a', True)]\n"
     ]
    }
   ],
   "source": [
    "# 3. Append a new tuple – (1,’a’,True) to ‘my_list’\n",
    "# a. Append a new list – “sparta”,123+ to my_list\n",
    "\n",
    "new_tuple = (1,\"a\",True)\n",
    "\n",
    "my_list.append(new_tuple)\n",
    "print(my_list)"
   ]
  },
  {
   "cell_type": "code",
   "execution_count": 5,
   "id": "258d2a5a",
   "metadata": {},
   "outputs": [
    {
     "name": "stdout",
     "output_type": "stream",
     "text": [
      "[1, 2, 3, 'a', 'b', 'c', True, False, (1, 'a', True), ['sparta', 123]]\n"
     ]
    }
   ],
   "source": [
    "# a. Append a new list – “sparta”,123+ to my_list\n",
    "\n",
    "new_list = [\"sparta\",123]\n",
    "\n",
    "my_list.append(new_list)\n",
    "\n",
    "print(my_list)"
   ]
  },
  {
   "cell_type": "code",
   "execution_count": 8,
   "id": "eb160c4a",
   "metadata": {},
   "outputs": [
    {
     "name": "stdout",
     "output_type": "stream",
     "text": [
      "{'fruit': ('Apple', 'Banana', 'Mango', 'Guava'), 'Cost': (85, 54, 120, 70)}\n"
     ]
    }
   ],
   "source": [
    "#4. Create a dictionary ‘fruit’ where:\n",
    "#a. The first key is ‘Fruit’ and the values are (“Apple”,”Banana”,”Mango”,”Guava”)\n",
    "#b. The second key is ‘Cost’ and the values are (85,54,120,70)\n",
    "#c. Extract all the keys from ‘fruit’\n",
    "#d. Extract all the values from ‘fruit’\n",
    "\n",
    "thisdict = {\n",
    "    \"fruit\": (\"Apple\",\"Banana\",\"Mango\",\"Guava\"),\n",
    "    \"Cost\": (85,54,120,70)\n",
    "}\n",
    "\n",
    "print(thisdict)"
   ]
  },
  {
   "cell_type": "code",
   "execution_count": 9,
   "id": "2fc2a592",
   "metadata": {},
   "outputs": [
    {
     "name": "stdout",
     "output_type": "stream",
     "text": [
      "dict_keys(['fruit', 'Cost'])\n"
     ]
    }
   ],
   "source": [
    "#c. Extract all the keys from ‘fruit’\n",
    "\n",
    "x = thisdict.keys()\n",
    "\n",
    "print(x)"
   ]
  },
  {
   "cell_type": "code",
   "execution_count": 10,
   "id": "7d0e1774",
   "metadata": {},
   "outputs": [
    {
     "name": "stdout",
     "output_type": "stream",
     "text": [
      "dict_values([('Apple', 'Banana', 'Mango', 'Guava'), (85, 54, 120, 70)])\n"
     ]
    }
   ],
   "source": [
    "#d. Extract all the values from ‘fruit’\n",
    "\n",
    "val = thisdict.values()\n",
    "\n",
    "print(val)"
   ]
  },
  {
   "cell_type": "code",
   "execution_count": 11,
   "id": "429adafd",
   "metadata": {},
   "outputs": [
    {
     "name": "stdout",
     "output_type": "stream",
     "text": [
      "{1, 'a'}\n"
     ]
    }
   ],
   "source": [
    "# 5. Crete a set named ‘my_set’ with values (1,1,”a”,”a”,True,True) and print the result\n",
    "\n",
    "new_set = {1,1,\"a\",\"a\",True,True}\n",
    "\n",
    "print(new_set)"
   ]
  },
  {
   "cell_type": "code",
   "execution_count": null,
   "id": "5b6ec97b",
   "metadata": {},
   "outputs": [],
   "source": []
  }
 ],
 "metadata": {
  "kernelspec": {
   "display_name": "Python 3",
   "language": "python",
   "name": "python3"
  },
  "language_info": {
   "codemirror_mode": {
    "name": "ipython",
    "version": 3
   },
   "file_extension": ".py",
   "mimetype": "text/x-python",
   "name": "python",
   "nbconvert_exporter": "python",
   "pygments_lexer": "ipython3",
   "version": "3.8.8"
  }
 },
 "nbformat": 4,
 "nbformat_minor": 5
}
