{
 "cells": [
  {
   "cell_type": "code",
   "execution_count": 51,
   "id": "5c1c66e1",
   "metadata": {},
   "outputs": [
    {
     "name": "stdout",
     "output_type": "stream",
     "text": [
      "10\n",
      "4\n",
      "26\n",
      "4\n",
      "24\n",
      "54\n"
     ]
    }
   ],
   "source": [
    "\"\"\"\n",
    "                                        Loops Assignment - 2\n",
    "Problem Statement: \n",
    "You work in XYZ Corporation as a Data Analyst. Your company has told you to work with the If- Else Conditions. \n",
    "\n",
    "Tasks to be performed:\n",
    "\n",
    "Create a list that is having 10,23,4,26,4,75,24,54 values and with the help of while loop, \n",
    "fetch the even numbers and print the numbers.                                        \n",
    "\"\"\"\n",
    "\n",
    "nums = [10,23,4,26,4,75,24,54]\n",
    "even_numbers = 0\n",
    "\n",
    "while even_numbers < len(nums):\n",
    "    if nums[even_numbers] % 2 == 0:\n",
    "        print(nums[even_numbers])\n",
    "        \n",
    "    even_numbers +=1   "
   ]
  },
  {
   "cell_type": "code",
   "execution_count": null,
   "id": "535d5ef9",
   "metadata": {},
   "outputs": [],
   "source": []
  }
 ],
 "metadata": {
  "kernelspec": {
   "display_name": "Python 3",
   "language": "python",
   "name": "python3"
  },
  "language_info": {
   "codemirror_mode": {
    "name": "ipython",
    "version": 3
   },
   "file_extension": ".py",
   "mimetype": "text/x-python",
   "name": "python",
   "nbconvert_exporter": "python",
   "pygments_lexer": "ipython3",
   "version": "3.8.8"
  }
 },
 "nbformat": 4,
 "nbformat_minor": 5
}
