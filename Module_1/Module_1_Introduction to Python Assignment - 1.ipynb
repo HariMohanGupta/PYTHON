{
 "cells": [
  {
   "cell_type": "code",
   "execution_count": 51,
   "id": "e92a8baf",
   "metadata": {},
   "outputs": [
    {
     "name": "stdout",
     "output_type": "stream",
     "text": [
      "10\n",
      "4\n",
      "26\n",
      "4\n",
      "24\n",
      "54\n"
     ]
    }
   ],
   "source": [
    "\"\"\"\n",
    "                                        Loops Assignment - 2\n",
    "Problem Statement: \n",
    "You work in XYZ Corporation as a Data Analyst. Your company has told you to work with the If- Else Conditions. \n",
    "\n",
    "Tasks to be performed:\n",
    "\n",
    "Create a list that is having 10,23,4,26,4,75,24,54 values and with the help of while loop, \n",
    "fetch the even numbers and print the numbers.                                        \n",
    "\"\"\"\n",
    "\n",
    "nums = [10,23,4,26,4,75,24,54]\n",
    "even_numbers = 0\n",
    "\n",
    "while even_numbers < len(nums):\n",
    "    if nums[even_numbers] % 2 == 0:\n",
    "        print(nums[even_numbers])\n",
    "        \n",
    "    even_numbers +=1   "
   ]
  },
  {
   "cell_type": "code",
   "execution_count": 8,
   "id": "9d0f669a",
   "metadata": {},
   "outputs": [
    {
     "name": "stdout",
     "output_type": "stream",
     "text": [
      "Enter the year :2021\n",
      "Year is not Leap Year\n"
     ]
    }
   ],
   "source": [
    "# 2. Write a Function to check if year number is a leap year.\n",
    "\n",
    "year = int(input(\"Enter the year :\"))\n",
    "\n",
    "if year % 4 == 0:\n",
    "    print(\"Year is Leap Year\")\n",
    "    \n",
    "else:\n",
    "    print(\"Year is not Leap Year\")\n"
   ]
  },
  {
   "cell_type": "code",
   "execution_count": null,
   "id": "5fbb8d79",
   "metadata": {},
   "outputs": [],
   "source": [
    "#Write a Function to take an array and return another array that contains the members of first array that are even.\n",
    "\n",
    "\n",
    "#Please provide the code;;;;;;;;;;;;"
   ]
  },
  {
   "cell_type": "code",
   "execution_count": 11,
   "id": "2785efec",
   "metadata": {},
   "outputs": [
    {
     "name": "stdout",
     "output_type": "stream",
     "text": [
      "['apple', 'banana', 'cherry', 'kiwi', 'mango', 'apple', 'banana', 'mango']\n"
     ]
    }
   ],
   "source": [
    "#4. Write a Function that takes 2 arrays and prints the members of first array that are present of second array. \n",
    "#(HINT: use Membership Comprehension)\n",
    "\n",
    "\n",
    "# If code is wrong please provide the right code.........\n",
    "\n",
    "fruits = [\"apple\", \"banana\", \"cherry\", \"kiwi\", \"mango\"]\n",
    "newlist =[\"apple\", \"banana\", \"cherry\", \"kiwi\", \"mango\"]\n",
    "\n",
    "for x in fruits:\n",
    "  if \"a\" in x:\n",
    "    newlist.append(x)\n",
    "\n",
    "print(newlist) \n"
   ]
  },
  {
   "cell_type": "code",
   "execution_count": null,
   "id": "9d543f78",
   "metadata": {},
   "outputs": [],
   "source": []
  }
 ],
 "metadata": {
  "kernelspec": {
   "display_name": "Python 3",
   "language": "python",
   "name": "python3"
  },
  "language_info": {
   "codemirror_mode": {
    "name": "ipython",
    "version": 3
   },
   "file_extension": ".py",
   "mimetype": "text/x-python",
   "name": "python",
   "nbconvert_exporter": "python",
   "pygments_lexer": "ipython3",
   "version": "3.8.8"
  }
 },
 "nbformat": 4,
 "nbformat_minor": 5
}
