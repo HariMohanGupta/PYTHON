{
 "cells": [
  {
   "cell_type": "code",
   "execution_count": null,
   "id": "d8953d69",
   "metadata": {},
   "outputs": [],
   "source": [
    "#Conditional Statements Assignment\n",
    "\n",
    "#Problem Statement: \n",
    "#You work in XYZ Corporation as a Data Analyst. Your company has told you to work with the If- Else Conditions. \n",
    "#Tasks to be performed: 1. Take three user inputs and print the greatest number from those inputs using if-else\n",
    "\n"
   ]
  },
  {
   "cell_type": "code",
   "execution_count": 2,
   "id": "adb935e5",
   "metadata": {},
   "outputs": [],
   "source": [
    "john = 20\n",
    "hari = 25\n",
    "jyoti = 30"
   ]
  },
  {
   "cell_type": "code",
   "execution_count": 3,
   "id": "fb973e15",
   "metadata": {},
   "outputs": [
    {
     "name": "stdout",
     "output_type": "stream",
     "text": [
      "john is less than hari\n"
     ]
    }
   ],
   "source": [
    "if john > hari:\n",
    "    print(\"john is greater than hari\")\n",
    "    \n",
    "    if john<hari:\n",
    "        print(\"john is less than hari\")\n",
    "    else:\n",
    "        print(\"john is greater than hari\")\n",
    "    \n",
    "else:\n",
    "     print(\"john is less than hari\")   "
   ]
  },
  {
   "cell_type": "code",
   "execution_count": 26,
   "id": "fb11e044",
   "metadata": {},
   "outputs": [
    {
     "name": "stdout",
     "output_type": "stream",
     "text": [
      "user1 enter the your age:    50\n",
      "user2 enter the your age:    40\n",
      "user3 enter the your age:    30\n"
     ]
    }
   ],
   "source": [
    "user1 = int(input(\"user1 enter the your age:    \"))  # I tried user input numbers from user side.....\n",
    "user2 = int(input(\"user2 enter the your age:    \"))\n",
    "user3 = int(input(\"user3 enter the your age:    \")) "
   ]
  },
  {
   "cell_type": "code",
   "execution_count": 27,
   "id": "edff14e3",
   "metadata": {},
   "outputs": [
    {
     "name": "stdout",
     "output_type": "stream",
     "text": [
      "user1 and user2 are greater then user3\n"
     ]
    }
   ],
   "source": [
    "if user1 > user2 and user2 > user3:\n",
    "    print(\"user1 and user2 are greater then user3\")\n",
    "elif user3 > user1 and user2 > user1:\n",
    "    print(\"user3 and user2 are greater than user1\")\n",
    "elif user1 == user2 and user2 == user3:\n",
    "    print(\"all is equal\")"
   ]
  },
  {
   "cell_type": "code",
   "execution_count": null,
   "id": "7e68a5bc",
   "metadata": {},
   "outputs": [],
   "source": []
  }
 ],
 "metadata": {
  "kernelspec": {
   "display_name": "Python 3",
   "language": "python",
   "name": "python3"
  },
  "language_info": {
   "codemirror_mode": {
    "name": "ipython",
    "version": 3
   },
   "file_extension": ".py",
   "mimetype": "text/x-python",
   "name": "python",
   "nbconvert_exporter": "python",
   "pygments_lexer": "ipython3",
   "version": "3.8.8"
  }
 },
 "nbformat": 4,
 "nbformat_minor": 5
}
