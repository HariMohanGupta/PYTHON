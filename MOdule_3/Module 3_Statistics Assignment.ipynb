{
 "cells": [
  {
   "cell_type": "code",
   "execution_count": 9,
   "id": "cb695c0c",
   "metadata": {},
   "outputs": [
    {
     "name": "stdout",
     "output_type": "stream",
     "text": [
      "   x  y\n",
      "0  1  2\n",
      "1  2  4\n",
      "2  3  5\n",
      "3  4  4\n",
      "4  5  2\n"
     ]
    }
   ],
   "source": [
    "                                #Module 3: Statistics Assignment #\n",
    "    \n",
    "    \n",
    "#Problem Statement: You work in XYZ Corporation as a Data Analyst. Your corporation has told you to work with the statistics.\n",
    "\n",
    "#Tasks to be performed:#\n",
    "\n",
    "#1. Create a table in excel, table should have 2 columns named x and y.\n",
    "#a. ‘x’ column should have numbers from 1-5.\n",
    "#b. ‘y’ should have numbers 2,4,5,4,2\n",
    "#c. Now calculate the mean of columns x and y.\n",
    "#d. Calculate the mode of column x.\n",
    "#e. Calculate the standard deviation of column y.\n",
    "#f. Atlast calculate the range of columns x and y seperatly\n",
    "\n",
    "\n",
    "import pandas as pd\n",
    "\n",
    "df = pd.read_excel(\"D:\\\\Hari -DS\\\\Python\\\\Assignment\\\\MOdule_3\\\\module3.xls\")\n",
    "\n",
    "print(df)"
   ]
  },
  {
   "cell_type": "code",
   "execution_count": 52,
   "id": "1a009c4e",
   "metadata": {},
   "outputs": [
    {
     "name": "stdout",
     "output_type": "stream",
     "text": [
      "Sum:  15\n",
      "Mean:  3.0\n",
      "Mean:  3.4\n",
      "Std:  1.3416407864998738 \n",
      "\n",
      "\n",
      "X_Range:  4 \n",
      "\n",
      "Y_Range:  3 \n",
      "\n",
      "\n",
      "Min:  1\n",
      "Max:  5\n"
     ]
    }
   ],
   "source": [
    "import numpy as np\n",
    "\n",
    "print(\"Sum: \",df[\"x\"].sum())\n",
    "print(\"Mean: \",df[\"x\"].mean())\n",
    "print(\"Mean: \",df[\"y\"].mean())\n",
    "print(\"Std: \", df[\"y\"].std(),\"\\n\\n\")\n",
    "\n",
    "print(\"X_Range: \",np.ptp(df[\"x\"]),\"\\n\")\n",
    "\n",
    "print(\"Y_Range: \",np.ptp(df[\"y\"]),\"\\n\\n\")\n",
    "\n",
    "\n",
    "\n",
    "print(\"Min: \",df[\"x\"].min())\n",
    "print(\"Max: \",df[\"x\"].max())\n",
    " "
   ]
  },
  {
   "cell_type": "code",
   "execution_count": 53,
   "id": "59685368",
   "metadata": {},
   "outputs": [
    {
     "name": "stdout",
     "output_type": "stream",
     "text": [
      "              x         y\n",
      "count  5.000000  5.000000\n",
      "mean   3.000000  3.400000\n",
      "std    1.581139  1.341641\n",
      "min    1.000000  2.000000\n",
      "25%    2.000000  2.000000\n",
      "50%    3.000000  4.000000\n",
      "75%    4.000000  4.000000\n",
      "max    5.000000  5.000000\n"
     ]
    }
   ],
   "source": [
    "print(df.describe())"
   ]
  },
  {
   "cell_type": "code",
   "execution_count": null,
   "id": "fc7a307c",
   "metadata": {},
   "outputs": [],
   "source": []
  }
 ],
 "metadata": {
  "kernelspec": {
   "display_name": "Python 3",
   "language": "python",
   "name": "python3"
  },
  "language_info": {
   "codemirror_mode": {
    "name": "ipython",
    "version": 3
   },
   "file_extension": ".py",
   "mimetype": "text/x-python",
   "name": "python",
   "nbconvert_exporter": "python",
   "pygments_lexer": "ipython3",
   "version": "3.8.8"
  }
 },
 "nbformat": 4,
 "nbformat_minor": 5
}
