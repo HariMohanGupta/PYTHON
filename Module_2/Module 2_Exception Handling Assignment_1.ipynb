{
 "cells": [
  {
   "cell_type": "code",
   "execution_count": 7,
   "id": "ac78cd3d",
   "metadata": {},
   "outputs": [
    {
     "name": "stdout",
     "output_type": "stream",
     "text": [
      "From Zero no any numbers devided\n",
      "Rest of the code\n"
     ]
    }
   ],
   "source": [
    "#                                 Module 2: Exception Handling Assignment\n",
    "\n",
    "#Problem Statement: You work in XYZ Corporation as a Data Analyst. \n",
    "#Your corporation has told you to work on Exception Handling.\n",
    "\n",
    "#Tasks to be performed:\n",
    "\n",
    "#1. With the help of try and inbuilt exception, display the exception.\n",
    "\n",
    "a = 10\n",
    "b = 0\n",
    "\n",
    "try:\n",
    "    c = a/b\n",
    "    print(c)\n",
    "\n",
    "except ZeroDivisionError:\n",
    "    print(\"From Zero no any numbers devided\")\n",
    "\n",
    "print(\"Rest of the code\")\n"
   ]
  },
  {
   "cell_type": "code",
   "execution_count": 17,
   "id": "5b0c6fd9",
   "metadata": {},
   "outputs": [
    {
     "name": "stdout",
     "output_type": "stream",
     "text": [
      "Enter Any Number 5\n",
      "Enter another Number 5\n",
      "1.0\n",
      "Thankyou your Numbers is devided\n",
      "Inside Finally\n",
      "Rest of the code\n"
     ]
    }
   ],
   "source": [
    "#2. Take two user inputs and pass those input variables in a try block. If the user input is 0, \n",
    "# then throw the ZeroDivisionError exception.\n",
    "\n",
    "num1 = int(input(\"Enter Any Number \"     ))\n",
    "num2 = int(input(\"Enter another Number \"  ))\n",
    "\n",
    "try:\n",
    "    num3 = num1 / num2\n",
    "    print(num3)\n",
    "    \n",
    "except ZeroDivisionError:\n",
    "    print(\"User devide by Zero but this is not posible\")\n",
    "    \n",
    "else:\n",
    "    print(\"Thankyou your Numbers is devided\")\n",
    "    \n",
    "finally:\n",
    "    print(\"Inside Finally\")\n",
    "    \n",
    "print(\"Rest of the code\")    "
   ]
  },
  {
   "cell_type": "code",
   "execution_count": 2,
   "id": "2e1b4fdb",
   "metadata": {},
   "outputs": [
    {
     "name": "stdout",
     "output_type": "stream",
     "text": [
      "That is wrong\n"
     ]
    }
   ],
   "source": [
    "#3. Import math package and with the help of math package, print – math.exp(50000). \n",
    "#Now use the inbuilt OverflowError exception on the math.exp(), and print the exception.\n",
    "\n",
    "import math\n",
    "\n",
    "try:\n",
    "    print(math.exp(50000))\n",
    "    \n",
    "except OverflowError:\n",
    "    print(\"That is wrong\")\n"
   ]
  },
  {
   "cell_type": "code",
   "execution_count": 19,
   "id": "45ce5be4",
   "metadata": {},
   "outputs": [],
   "source": [
    "#4. Now install the ‘termcolor’ package in the anaconda prompt, and import \n",
    "# that package to provide the colors to the print statement in Jupyter Notebook.\n",
    "\n"
   ]
  },
  {
   "cell_type": "code",
   "execution_count": 2,
   "id": "bc8adcec",
   "metadata": {},
   "outputs": [
    {
     "name": "stdout",
     "output_type": "stream",
     "text": [
      "\u001b[31mHello Python\u001b[0m\n"
     ]
    }
   ],
   "source": [
    "from colorama import init\n",
    "from termcolor import colored\n",
    "print(colored(\"Hello Python\",\"red\"))"
   ]
  },
  {
   "cell_type": "code",
   "execution_count": 1,
   "id": "50ac2e59",
   "metadata": {},
   "outputs": [
    {
     "name": "stdout",
     "output_type": "stream",
     "text": [
      "\u001b[31mhello\u001b[0m \u001b[32mworld\u001b[0m\n",
      "\u001b[31mhello red world\u001b[0m\n"
     ]
    }
   ],
   "source": [
    "from termcolor import colored\n",
    "print(colored('hello', 'red'), colored('world', 'green'))\n",
    "print(colored(\"hello red world\", 'red'))"
   ]
  },
  {
   "cell_type": "code",
   "execution_count": 3,
   "id": "905fca22",
   "metadata": {},
   "outputs": [
    {
     "name": "stdout",
     "output_type": "stream",
     "text": [
      "\u001b[48;5;15m\u001b[38;5;1mHello world!\n"
     ]
    }
   ],
   "source": [
    "import colored\n",
    "print(colored.bg(\"white\") + colored.fg(\"red\") + \"Hello world!\")"
   ]
  },
  {
   "cell_type": "code",
   "execution_count": 8,
   "id": "2fa608eb",
   "metadata": {},
   "outputs": [
    {
     "name": "stdout",
     "output_type": "stream",
     "text": [
      "hi\n",
      "hi\n",
      "Your computer config is -- 8GB 1TB\n",
      "Your computer config is -- 16GB 2TB\n"
     ]
    }
   ],
   "source": [
    "#5. Create your own exception with the help of class and functions.\n",
    "\n",
    "class Computer:\n",
    "    def __init__(self,ram,hd):\n",
    "        self.ram=ram\n",
    "        self.hd=hd\n",
    "        print(\"hi\")\n",
    "        \n",
    "    def feature(self):\n",
    "        print(\"Your computer config is --\", self.ram, self.hd)\n",
    "        \n",
    "com1 = Computer(\"8GB\",\"1TB\")\n",
    "com2 = Computer(\"16GB\",\"2TB\")\n",
    "\n",
    "Computer.feature(com1)\n",
    "com2.feature()"
   ]
  },
  {
   "cell_type": "code",
   "execution_count": null,
   "id": "f17be104",
   "metadata": {},
   "outputs": [],
   "source": []
  }
 ],
 "metadata": {
  "kernelspec": {
   "display_name": "Python 3",
   "language": "python",
   "name": "python3"
  },
  "language_info": {
   "codemirror_mode": {
    "name": "ipython",
    "version": 3
   },
   "file_extension": ".py",
   "mimetype": "text/x-python",
   "name": "python",
   "nbconvert_exporter": "python",
   "pygments_lexer": "ipython3",
   "version": "3.8.8"
  }
 },
 "nbformat": 4,
 "nbformat_minor": 5
}
