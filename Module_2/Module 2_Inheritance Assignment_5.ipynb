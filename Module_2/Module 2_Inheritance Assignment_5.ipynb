{
 "cells": [
  {
   "cell_type": "code",
   "execution_count": 5,
   "id": "b8c768df",
   "metadata": {},
   "outputs": [
    {
     "name": "stdout",
     "output_type": "stream",
     "text": [
      "10\n",
      "10\n"
     ]
    }
   ],
   "source": [
    "#Problem Statement: You work in XYZ Corporation as a Data Analyst. \n",
    "#Your corporation has told you to work with the inheritance of the classes.\n",
    "\n",
    "#Tasks to be performed:\n",
    "#1. Create a class named parent_Class and inside the class, initialize a global variable num as 10.\n",
    "#a. Create another class named child_Class and this class should be inherited from the parent class.\n",
    "#b. Now create an object for the child_Class and with the help of child_Class object, display the value of ‘num’.\n",
    "\n",
    "num = 10\n",
    "class parent_Class:\n",
    "    print(num)\n",
    "    \n",
    "class child_Class(parent_Class):\n",
    "    print(num)\n",
    "    \n",
    "obj = child_Class()   "
   ]
  },
  {
   "cell_type": "code",
   "execution_count": 10,
   "id": "12d959ac",
   "metadata": {},
   "outputs": [],
   "source": [
    "#2. Create three class named A, B, and C.\n",
    "#a. Inside the A class, create a constructor. Inside the constructor, initilize 2 global variables- name and age.\n",
    "#b. After initializing the global variables inside the constructor, now create a funtion named ‘details’ and that function should return the ‘name’ variable.\n",
    "#c. Inside the B class, create a constructor. Inside the contructor, initialize 2 global veriables- name and id.\n",
    "#d. After initializing the global variables inside the constructor, now create a funtion named ‘details’ and that function should return the ‘name’ variable.\n",
    "#e. The C class should inherit from class A, and B. Inside the class C, create a constructor, and inside the constructor, call the contructor of class A.\n",
    "#f. Now, create a method inside the class C, as get_details, and this fucntion should return the vaue of name.\n",
    "#g. Atlast, create an object of class C, and with the help of the object, call the get_details().\n",
    "\n"
   ]
  },
  {
   "cell_type": "code",
   "execution_count": 9,
   "id": "04c16c35",
   "metadata": {},
   "outputs": [
    {
     "name": "stdout",
     "output_type": "stream",
     "text": [
      "Hari\n"
     ]
    }
   ],
   "source": [
    "name = \"Hari\"\n",
    "age = 40\n",
    "ID = 35\n",
    "\n",
    "class A:\n",
    "    def __init__(self,name,age):\n",
    "        self.name=\"Hari\"\n",
    "        self.age=40\n",
    "    \n",
    "    def details():\n",
    "        print(self.name)\n",
    "        \n",
    "class B:\n",
    "    def __init__(self,name,ID):\n",
    "        self.name=\"Hari\"\n",
    "        self.ID=35\n",
    "        \n",
    "    def details():\n",
    "        print(self.name)\n",
    "        \n",
    "        \n",
    "class C(A,B):\n",
    "    def __init__(self,A):\n",
    "        A.__init__(self,\"Harry\",50)\n",
    "        B.__init__(self,\"Roy\",90929)\n",
    "    \n",
    "    def get_details(self):\n",
    "        print(self.name)\n",
    "        \n",
    "obj2=C(10)\n",
    "obj2.get_details()    "
   ]
  },
  {
   "cell_type": "code",
   "execution_count": null,
   "id": "727e5ff8",
   "metadata": {},
   "outputs": [],
   "source": []
  }
 ],
 "metadata": {
  "kernelspec": {
   "display_name": "Python 3",
   "language": "python",
   "name": "python3"
  },
  "language_info": {
   "codemirror_mode": {
    "name": "ipython",
    "version": 3
   },
   "file_extension": ".py",
   "mimetype": "text/x-python",
   "name": "python",
   "nbconvert_exporter": "python",
   "pygments_lexer": "ipython3",
   "version": "3.8.8"
  }
 },
 "nbformat": 4,
 "nbformat_minor": 5
}
