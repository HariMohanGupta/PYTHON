{
 "cells": [
  {
   "cell_type": "code",
   "execution_count": null,
   "id": "f50310fd",
   "metadata": {},
   "outputs": [],
   "source": [
    "#Problem Statement: You work in XYZ Corporation as a Data Analyst. \n",
    "#Your corporation has told you to work on importing various functions.\n",
    "\n",
    "#Tasks to be performed:\n",
    "\n",
    "#1. Create a python file named Module.\n",
    "#a. Inside the file, define 4 methods named – addition, subtraction, multiplication, and division.\n",
    "#b. Each method should only accept 2 arguments and should return the result of operation performed in each method. For e.g., addition() should return the sum of two arguments.\n",
    "#c. Save the Module file in .py format.\n",
    "\n",
    "def add(a , b):\n",
    "    return a+b\n",
    "\n",
    "def subtract(a , b):\n",
    "    return a-b\n",
    "\n",
    "def multiply(a , b):\n",
    "    return a*b\n",
    "    \n",
    "def division(a , b):\n",
    "    return a / b"
   ]
  },
  {
   "cell_type": "code",
   "execution_count": 9,
   "id": "bcf342e8",
   "metadata": {},
   "outputs": [],
   "source": [
    "#2. Open a new python file and import the Module.py file.\n",
    "#a. Now call the 4 methods from the Module.py file, i.e., addition(), subtraction(), multiplication(), and division()."
   ]
  },
  {
   "cell_type": "code",
   "execution_count": 2,
   "id": "8d38d53c",
   "metadata": {},
   "outputs": [
    {
     "name": "stdout",
     "output_type": "stream",
     "text": [
      "7\n",
      "-1\n",
      "20\n",
      "0.8\n"
     ]
    }
   ],
   "source": [
    "from module import add,subtract,multiply,divide\n",
    "\n",
    "print(add (4,3))\n",
    "print(subtract(4,5))\n",
    "print(multiply(4,5))\n",
    "print(divide(4,5))"
   ]
  },
  {
   "cell_type": "code",
   "execution_count": 5,
   "id": "ab9fcd78",
   "metadata": {},
   "outputs": [
    {
     "name": "stdout",
     "output_type": "stream",
     "text": [
      "11\n"
     ]
    }
   ],
   "source": [
    "#3. From the Module file, import only the addition() and pass the arguments so that it can display the result from the method.\n",
    "\n",
    "\n",
    "from module import add\n",
    "\n",
    "print(add(5,6))"
   ]
  },
  {
   "cell_type": "code",
   "execution_count": 6,
   "id": "fad746f7",
   "metadata": {},
   "outputs": [
    {
     "name": "stdout",
     "output_type": "stream",
     "text": [
      "1\n"
     ]
    }
   ],
   "source": [
    "#4. From the Module file, import only the subtraction() and pass the arguments so that it can display the result from the method.\n",
    "\n",
    "from module import subtract\n",
    "\n",
    "print(subtract(5,4))"
   ]
  },
  {
   "cell_type": "code",
   "execution_count": 7,
   "id": "9a6b0d19",
   "metadata": {},
   "outputs": [
    {
     "name": "stdout",
     "output_type": "stream",
     "text": [
      "16\n",
      "5.0\n"
     ]
    }
   ],
   "source": [
    "#5. From the Module file, import both the multiplication() and division() \n",
    "# and pass the arguments so that it can display the result from the methods.\n",
    "\n",
    "from module import multiply,divide\n",
    "\n",
    "print(multiply(4,4))\n",
    "print(divide(10,2))"
   ]
  },
  {
   "cell_type": "code",
   "execution_count": null,
   "id": "9f8c42c1",
   "metadata": {},
   "outputs": [],
   "source": []
  }
 ],
 "metadata": {
  "kernelspec": {
   "display_name": "Python 3",
   "language": "python",
   "name": "python3"
  },
  "language_info": {
   "codemirror_mode": {
    "name": "ipython",
    "version": 3
   },
   "file_extension": ".py",
   "mimetype": "text/x-python",
   "name": "python",
   "nbconvert_exporter": "python",
   "pygments_lexer": "ipython3",
   "version": "3.8.8"
  }
 },
 "nbformat": 4,
 "nbformat_minor": 5
}
