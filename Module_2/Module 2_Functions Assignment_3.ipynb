{
 "cells": [
  {
   "cell_type": "code",
   "execution_count": 14,
   "id": "25ff957a",
   "metadata": {},
   "outputs": [],
   "source": [
    "#              Module 2: Functions Assignment\n",
    "#Problem Statement: You work in XYZ Corporation as a Python Developer. Your corporation have told your to work with the methods, \n",
    "# and functions in Python.\n",
    "\n",
    "#Tasks to be performed:\n",
    "\n",
    "#1. Create a class named ‘Super’ and inside that class define a user-defined function named fun1.\n",
    "#a. Inside the ‘fun1’ function, pass the message “This is function 1 in the Super class.”in the print statement.\n",
    "\n",
    "class Super:\n",
    "    def fun1(self):\n",
    "        print(\"This is function 1 in the Super class\")\n",
    "                \n",
    "    "
   ]
  },
  {
   "cell_type": "code",
   "execution_count": 19,
   "id": "dafd900d",
   "metadata": {},
   "outputs": [
    {
     "name": "stdout",
     "output_type": "stream",
     "text": [
      "This is function 1 in the Modified Super class\n"
     ]
    }
   ],
   "source": [
    "#2. Create another classed named ‘Modified_Super’ and inherit this class from the Super class.\n",
    "#a. Inside the Modified_Super class, create a function named ‘fun1’ and pass the following message inside the print statement: \n",
    "#‘This is function 1 in the Modified Super class.’\n",
    "#b. Create another user-defined function named ‘fun2’ and pass the message: \n",
    "#‘This is the 2nd function from the Modified Super class’ in the print statement.\n",
    "#c. After that, now create an object for the Modified_Super class and call the fun1().\n",
    "                \n",
    "\n",
    "class Modified_Super(Super):\n",
    "        def fun1(self):\n",
    "            print(\"This is function 1 in the Modified Super class\")\n",
    "            \n",
    "        def  fun2(self2):\n",
    "            print(\"This is the 2nd function from the Modified Super class’ in the print statement\")\n",
    "            \n",
    "            \n",
    "message = Modified_Super()\n",
    "message.fun1()\n",
    "            "
   ]
  },
  {
   "cell_type": "code",
   "execution_count": 31,
   "id": "76bbcea9",
   "metadata": {
    "scrolled": false
   },
   "outputs": [
    {
     "name": "stdout",
     "output_type": "stream",
     "text": [
      "This function is only having 1 argument\n",
      "\n",
      "This function is cell_no, address having 2 arguments \n",
      "\n",
      "My Name is Hari, cell No 9619046011 and address is Mumbai.\n"
     ]
    }
   ],
   "source": [
    "#3. Create 2 methods named ‘Hello’. In the 1st Hello method, pass only one argument and pass this message: \n",
    "#‘This function is only having 1 argument’. And in the 2nd Hello method, pass two arguments and pass this message: \n",
    "#‘This function is having 2 arguments’.\n",
    "#a. Try to call both the methods and analyze the output of both the methods.\n",
    "\n",
    "\n",
    "class Hello:\n",
    "    def __init__(self,name):\n",
    "        self.name = name\n",
    "        print(\"This function is only having 1 argument\\n\")\n",
    "        \n",
    "    \n",
    "        \n",
    "class Second_Hello(Hello):\n",
    "    def __init__(self,name,cell_no, address):\n",
    "        super().__init__(name)\n",
    "        self.cell_no = cell_no\n",
    "        self.address = address\n",
    "        print(\"This function is cell_no, address having 2 arguments \\n\")\n",
    "        #print(\"My Name cell No and address :\", self.name, self.cell_no , self.address)\n",
    "             \n",
    "            \n",
    "               \n",
    "message = Second_Hello( \"Hari\", 9619046011 , \"Mumbai\")\n",
    "print(f'My Name is {message.name}, cell No {message.cell_no} and address is {message.address}.')\n"
   ]
  },
  {
   "cell_type": "code",
   "execution_count": 54,
   "id": "51ca2e28",
   "metadata": {},
   "outputs": [
    {
     "name": "stdout",
     "output_type": "stream",
     "text": [
      "Enter you No5\n"
     ]
    }
   ],
   "source": [
    "#4. Create a method named ‘Sum’ that can accept multiple user inputs. Now add those user-defined input values using \n",
    "#for loop and the function should return the addition of the numbers.\n",
    "\n",
    "class Sum:\n",
    "    user_input = int(input(\"Enter you No\"))"
   ]
  },
  {
   "cell_type": "code",
   "execution_count": null,
   "id": "ad483c60",
   "metadata": {},
   "outputs": [],
   "source": []
  },
  {
   "cell_type": "code",
   "execution_count": 53,
   "id": "3849d76b",
   "metadata": {},
   "outputs": [
    {
     "name": "stdout",
     "output_type": "stream",
     "text": [
      "in constructor the value is  10\n",
      "in constructor the value is  10\n",
      "in constructor the value is  10\n",
      "in value function value is 20\n",
      "in value function value is 20\n",
      "The val in fn set val is 30\n"
     ]
    }
   ],
   "source": [
    "#5. Create a class named ‘Encapsulation’:\n",
    "#a. Inside the class, first create a constructor. Inside the constructor, initialize originalValue variable as 10.\n",
    "#b. After creating the constructor, define a function named ‘Value’ and this function should return the variable \n",
    "#that we have initialized in the constructor.\n",
    "#c. Now create 2nd function named setValue, and pass an argument named ‘newValue’. The task of this function will \n",
    "#be to replace the value of the originalValue variable by the value of newValue variable.\n",
    "\n",
    "\n",
    "class Encapsulation:\n",
    "    def __init__(self,originalValue):\n",
    "        originalValue=10\n",
    "        print(\"in constructor the value is \",originalValue)\n",
    "    def value(self):\n",
    "        originalValue=20\n",
    "        print(\"in value function value is\",originalValue)\n",
    "    def set_value(self):\n",
    "        newValue=30\n",
    "        print(\"The val in fn set val is\",newValue)\n",
    "com1=Encapsulation(10)\n",
    "com2=Encapsulation(20)\n",
    "com3=Encapsulation(30)\n",
    "com1.value()\n",
    "com2.value()\n",
    "com3.set_value()"
   ]
  },
  {
   "cell_type": "code",
   "execution_count": null,
   "id": "47640d01",
   "metadata": {},
   "outputs": [],
   "source": []
  }
 ],
 "metadata": {
  "kernelspec": {
   "display_name": "Python 3",
   "language": "python",
   "name": "python3"
  },
  "language_info": {
   "codemirror_mode": {
    "name": "ipython",
    "version": 3
   },
   "file_extension": ".py",
   "mimetype": "text/x-python",
   "name": "python",
   "nbconvert_exporter": "python",
   "pygments_lexer": "ipython3",
   "version": "3.8.8"
  }
 },
 "nbformat": 4,
 "nbformat_minor": 5
}
