{
 "cells": [
  {
   "cell_type": "code",
   "execution_count": 16,
   "id": "7111ca62",
   "metadata": {},
   "outputs": [
    {
     "name": "stdout",
     "output_type": "stream",
     "text": [
      "Enter the any number for factorial :5\n",
      " Factorial of 5 is 120\n"
     ]
    }
   ],
   "source": [
    "#                           Module 2: Function and Class Assignment\n",
    "\n",
    "#Problem Statement: You work in XYZ Corporation as a Data Analyst. \n",
    "#Your corporation has told you to work on functions and classes.\n",
    "\n",
    "#Tasks to be performed:\n",
    "\n",
    "# 1. Create a function named ‘factor’ that can only accepts 1 argument. \n",
    "# The function should return the factorial of that number.\n",
    "\n",
    "num = int(input(\"Enter the any number for factorial :\" ))\n",
    "\n",
    "def factor(num):\n",
    "    return 1 if (num == 1 or num == 0) else num * factor(num-1);\n",
    "\n",
    "print(\" Factorial of\" ,num, \"is\" ,factor(num))"
   ]
  },
  {
   "cell_type": "code",
   "execution_count": 9,
   "id": "dd9aeddf",
   "metadata": {},
   "outputs": [
    {
     "name": "stdout",
     "output_type": "stream",
     "text": [
      "Enter the any letter: s\n",
      "The string is containing the letter ‘s’ \n"
     ]
    }
   ],
   "source": [
    "#2. Create a function named ‘check_string’, the function should accept a string data from the user \n",
    "#  and the function should check if the user input contains the letter ‘s’ in it. \n",
    "# If it contains the letter ‘s’ then print- ‘The string is containing the letter ‘s’’, \n",
    "# if not then print- ‘The string doesn’t contain the letter ‘s’’.\n",
    "\n",
    "text = str(input(\"Enter the any letter: \"))\n",
    "def check_string(text):\n",
    "            if (text in \"s\"):\n",
    "                print(\"The string is containing the letter ‘s’ \") \n",
    "            else:\n",
    "                print(\"The string doesn’t contain the letter ‘s’ \")\n",
    "                \n",
    "check_string(text)                "
   ]
  },
  {
   "cell_type": "code",
   "execution_count": 55,
   "id": "3f60adad",
   "metadata": {},
   "outputs": [
    {
     "name": "stdout",
     "output_type": "stream",
     "text": [
      "I am a student of  6th std  Subject is Science \n",
      "\n",
      "\n",
      "Today I lots of fun in School \n",
      "\n",
      "\n"
     ]
    },
    {
     "data": {
      "text/plain": [
       "<bound method student.school_fun.message of <__main__.student.school_fun object at 0x000001F67757FFD0>>"
      ]
     },
     "execution_count": 55,
     "metadata": {},
     "output_type": "execute_result"
    }
   ],
   "source": [
    "#3. Create a class named ‘student’ and inside the class, create a function named ‘fun1’- \n",
    "#  this method should accepts the user defined input and return that value.\n",
    "\n",
    "#  a. Create another method named- message() and that method should print the user defined \n",
    "#  input that we have defined in ‘fun1’.\n",
    "\n",
    "class student:\n",
    "    \n",
    "    def __init__(self,std,sub):\n",
    "        self.std=std\n",
    "        self.sub=sub\n",
    "        \n",
    "    def intro(self):\n",
    "        print(\"I am a student of \", self.std,self.sub, \"\\n\\n\")\n",
    "        \n",
    "#student1 = student(\"6th std\" , \" Subject is Science\")\n",
    "#student2 = student(\"11th std\"  ,   \"Subject is Math\")\n",
    "\n",
    "    class school_fun:\n",
    "        def fun1(self):\n",
    "            print(\"Today I lots of fun in School\",\"\\n\\n\")\n",
    "            \n",
    "        def message(self):\n",
    "            print(\"Print the user defined input of fun1\")\n",
    "            super().fun1()\n",
    "        \n",
    "student.intro(student1)\n",
    "student2 = student.school_fun()\n",
    "student2.fun1()\n",
    "student3 = student.school_fun()\n",
    "student3.message"
   ]
  },
  {
   "cell_type": "code",
   "execution_count": 1,
   "id": "1bf9617c",
   "metadata": {},
   "outputs": [
    {
     "name": "stdout",
     "output_type": "stream",
     "text": [
      "22\n"
     ]
    }
   ],
   "source": [
    "#4. Create a lambda function that should double or multiply the number (that we will be passing in the lambda function) \n",
    "#by 2. Store the lambda function in a variable named ‘double_num’.\n",
    "\n",
    "def myfunc(n):\n",
    "    return lambda a : a * n\n",
    "\n",
    "multiply = myfunc(2)\n",
    "\n",
    "print(multiply(11))"
   ]
  },
  {
   "cell_type": "code",
   "execution_count": 62,
   "id": "d7cc787d",
   "metadata": {},
   "outputs": [
    {
     "name": "stdout",
     "output_type": "stream",
     "text": [
      "Enter the a string: madam\n",
      "The string is a palindrome\n"
     ]
    }
   ],
   "source": [
    "#5. Take user input string and check whether that string is palindrome or not.\n",
    "\n",
    "string = input(\"Enter the a string: \")\n",
    "if(string==string[::-1]):\n",
    "    print(\"The string is a palindrome\")\n",
    "    \n",
    "else:\n",
    "    print(\"Not a palindrome\")\n"
   ]
  },
  {
   "cell_type": "code",
   "execution_count": null,
   "id": "634d3a05",
   "metadata": {},
   "outputs": [],
   "source": []
  }
 ],
 "metadata": {
  "kernelspec": {
   "display_name": "Python 3",
   "language": "python",
   "name": "python3"
  },
  "language_info": {
   "codemirror_mode": {
    "name": "ipython",
    "version": 3
   },
   "file_extension": ".py",
   "mimetype": "text/x-python",
   "name": "python",
   "nbconvert_exporter": "python",
   "pygments_lexer": "ipython3",
   "version": "3.8.8"
  }
 },
 "nbformat": 4,
 "nbformat_minor": 5
}
